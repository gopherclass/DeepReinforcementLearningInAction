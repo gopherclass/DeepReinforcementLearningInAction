{
 "cells": [
  {
   "cell_type": "code",
   "execution_count": 109,
   "metadata": {},
   "outputs": [],
   "source": [
    "from IPython.display import clear_output\n",
    "from cartpole import format_state, sim, ConvNet4 as ConvNet, FCNet0 as FCNet, CartPoleTorch\n",
    "from gym.envs.classic_control.cartpole import CartPoleEnv\n",
    "from gym.utils import seeding\n",
    "from torch import nn\n",
    "from torch import optim\n",
    "import numpy as np\n",
    "import torch"
   ]
  },
  {
   "cell_type": "code",
   "execution_count": 110,
   "metadata": {},
   "outputs": [],
   "source": [
    "def format_array(array, float_format='.4f'):\n",
    "    formatter = {'float': lambda v: format(v, float_format)}\n",
    "    return np.array2string(array, formatter=formatter)"
   ]
  },
  {
   "cell_type": "code",
   "execution_count": 111,
   "metadata": {},
   "outputs": [],
   "source": [
    "checkpoint = torch.load('FC-150-v3.pt')\n",
    "policy = FCNet().eval()\n",
    "policy.load_state_dict(checkpoint['policy'])\n",
    "\n",
    "# Freeze all parameters\n",
    "for param in policy.parameters():\n",
    "    param.requires_grad_(False)"
   ]
  },
  {
   "cell_type": "code",
   "execution_count": 108,
   "metadata": {},
   "outputs": [],
   "source": [
    "sim(policy, env_raw, animation=True, terminal=True)"
   ]
  },
  {
   "cell_type": "code",
   "execution_count": 112,
   "metadata": {},
   "outputs": [],
   "source": [
    "env_raw = CartPoleEnv()\n",
    "env_torch = CartPoleTorch()\n",
    "np_random, _ = seeding.np_random(1)"
   ]
  },
  {
   "cell_type": "code",
   "execution_count": 113,
   "metadata": {},
   "outputs": [
    {
     "data": {
      "text/plain": [
       "'(x = +0.0307, dx = +0.0015, θ =  -1.7698, dθ = -0.0313)'"
      ]
     },
     "execution_count": 113,
     "metadata": {},
     "output_type": "execute_result"
    }
   ],
   "source": [
    "format_state(np_random.uniform(low=-0.05, high=0.05, size=(4,)))"
   ]
  },
  {
   "cell_type": "code",
   "execution_count": 116,
   "metadata": {},
   "outputs": [
    {
     "name": "stdout",
     "output_type": "stream",
     "text": [
      "(x = +0.0000, dx = +0.0000, θ =  +0.0000, dθ = +0.0000)\n"
     ]
    }
   ],
   "source": [
    "initial_state = env_torch.reset(np_random)\n",
    "initial_state.fill_(0)\n",
    "initial_state.requires_grad_()\n",
    "print(format_state(initial_state))\n",
    "\n",
    "optimizer = optim.SGD([initial_state], lr=0.005)"
   ]
  },
  {
   "cell_type": "code",
   "execution_count": 130,
   "metadata": {},
   "outputs": [
    {
     "name": "stdout",
     "output_type": "stream",
     "text": [
      "INITIAL STATE = (x = -0.2751, dx = -0.8771, θ =  +0.0000, dθ = -2.3757)\n",
      "# 0: L = 1.0000, R = 0.0000, (x = -0.2751, dx = -0.8771, θ =  +0.0000, dθ = -2.3757)\n",
      "# 1: L = 1.0000, R = 0.0000, (x = -0.2926, dx = -1.0722, θ =  -2.7224, dθ = -2.0830)\n",
      "# 2: L = 1.0000, R = 0.0000, (x = -0.3141, dx = -1.2668, θ =  -5.1093, dθ = -1.8054)\n",
      "# 3: L = 1.0000, R = 0.0000, (x = -0.3394, dx = -1.4608, θ =  -7.1782, dθ = -1.5417)\n",
      "# 4: L = 1.0000, R = 0.0000, (x = -0.3686, dx = -1.6542, θ =  -8.9448, dθ = -1.2906)\n",
      "# 5: L = 1.0000, R = 0.0000, (x = -0.4017, dx = -1.8471, θ = -10.4238, dθ = -1.0506)\n",
      "# 6: L = 1.0000, R = 0.0000, (x = -0.4387, dx = -2.0394, θ = -11.6276, dθ = -0.8201)\n",
      "END STATE     = (x = -0.4795, dx = -2.2312, θ = -12.5674, dθ = -0.5975)\n",
      "grad [0.0000 0.0000 0.0000 0.0000]\n",
      "loss = 0.0000000\n",
      "(x = -0.2751, dx = -0.8771, θ =  +0.0000, dθ = -2.3757)\n"
     ]
    }
   ],
   "source": [
    "for _ in range(1):\n",
    "    clear_output(wait=True)\n",
    "    \n",
    "    state = initial_state\n",
    "    prob_batch = []\n",
    "    done = False\n",
    "    t = 0\n",
    "    \n",
    "    print('INITIAL STATE = {}'.format(format_state(state)))\n",
    "    while not done:\n",
    "        act_prob = policy(state.unsqueeze(0)).squeeze()\n",
    "        prob_L, prob_R = act_prob.detach().numpy()\n",
    "        print('#{:2d}: L = {:.4f}, R = {:.4f}, {}'.format(t, prob_L, prob_R, format_state(state)))\n",
    "        prob_batch.append(act_prob[0])\n",
    "        state, done = env_torch.step(state, 0)\n",
    "        t += 1\n",
    "    print('END STATE     = {}'.format(format_state(state)))\n",
    "\n",
    "    prob_batch = torch.stack(prob_batch)\n",
    "    loss = torch.sum(-torch.log(prob_batch))\n",
    "    \n",
    "    optimizer.zero_grad()\n",
    "    loss.backward()\n",
    "    # initial_state.grad[0] = 0.0\n",
    "    # initial_state.grad[1] = 0.0\n",
    "    initial_state.grad[2] = 0.0\n",
    "    # initial_state.grad[3] = 0.0\n",
    "    print('grad', format_array(initial_state.grad.numpy()))\n",
    "    optimizer.step()\n",
    "\n",
    "    print('loss = {:.7f}'.format(loss.item()))\n",
    "    print(format_state(initial_state))"
   ]
  },
  {
   "cell_type": "code",
   "execution_count": 124,
   "metadata": {},
   "outputs": [
    {
     "data": {
      "text/plain": [
       "'(x = -0.2751, dx = -0.8771, θ =  +0.0000, dθ = -2.3757)'"
      ]
     },
     "execution_count": 124,
     "metadata": {},
     "output_type": "execute_result"
    }
   ],
   "source": [
    "format_state(initial_state)"
   ]
  },
  {
   "cell_type": "code",
   "execution_count": 104,
   "metadata": {},
   "outputs": [],
   "source": [
    "sim(policy, env_raw, limit=100, initial_state=initial_state.detach().numpy(), animation=True, sleep=None, live_state=False, terminal=False)"
   ]
  },
  {
   "cell_type": "code",
   "execution_count": null,
   "metadata": {},
   "outputs": [],
   "source": []
  }
 ],
 "metadata": {
  "kernelspec": {
   "display_name": "Python 3",
   "language": "python",
   "name": "python3"
  },
  "language_info": {
   "codemirror_mode": {
    "name": "ipython",
    "version": 3
   },
   "file_extension": ".py",
   "mimetype": "text/x-python",
   "name": "python",
   "nbconvert_exporter": "python",
   "pygments_lexer": "ipython3",
   "version": "3.8.5"
  }
 },
 "nbformat": 4,
 "nbformat_minor": 4
}
