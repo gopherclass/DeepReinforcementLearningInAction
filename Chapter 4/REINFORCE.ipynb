{
 "cells": [
  {
   "cell_type": "code",
   "execution_count": 62,
   "metadata": {},
   "outputs": [],
   "source": [
    "from torch import nn\n",
    "from torch import optim\n",
    "from gym.envs.classic_control.cartpole import CartPoleEnv\n",
    "import gym\n",
    "import matplotlib.pyplot as plt\n",
    "import numpy as np\n",
    "import time\n",
    "import torch\n",
    "import cartpole"
   ]
  },
  {
   "cell_type": "code",
   "execution_count": 63,
   "metadata": {},
   "outputs": [],
   "source": [
    "policy = nn.Sequential(\n",
    "    nn.Linear(4, 150),\n",
    "    nn.GELU(),\n",
    "    nn.Linear(150, 2),\n",
    "    nn.Softmax(dim=1),\n",
    ").double()\n",
    "optimizer = optim.Adam(policy.parameters(), lr=0.009)"
   ]
  },
  {
   "cell_type": "code",
   "execution_count": 3,
   "metadata": {},
   "outputs": [],
   "source": [
    "class ConvNet(nn.Module):\n",
    "    def __init__(self):\n",
    "        super().__init__()\n",
    "        self.fc = nn.Linear(4, 16)\n",
    "        self.conv = nn.Sequential(\n",
    "            nn.Conv1d(1, 4, 3, 1, 1), # 16\n",
    "            nn.GELU(),\n",
    "            nn.Conv1d(4, 4, 3, 1, 1), # 16\n",
    "            nn.GELU(),\n",
    "            nn.MaxPool1d(2, 2), # 8\n",
    "            nn.Conv1d(4, 2, 3, 1, 1), # 8\n",
    "            nn.GELU(),\n",
    "            nn.Conv1d(2, 2, 3, 1, 1), # 8\n",
    "            nn.GELU(),\n",
    "            nn.MaxPool1d(2, 2), # 4\n",
    "            nn.Conv1d(2, 1, 3, 1, 1), # 4\n",
    "            nn.GELU(),\n",
    "            nn.Conv1d(1, 1, 3, 1, 1), # 4\n",
    "            nn.GELU(),\n",
    "            nn.MaxPool1d(2, 2), # 2\n",
    "        )\n",
    "        self.softmax = nn.Softmax(dim=1)\n",
    "        self.double()\n",
    "        \n",
    "    def forward(self, x):\n",
    "        x = self.fc(x).unsqueeze(1)\n",
    "        x = self.conv(x).squeeze(1)\n",
    "        x = self.softmax(x)\n",
    "        return x\n",
    "\n",
    "policy = ConvNet()\n",
    "optimizer = optim.Adam(policy.parameters(), lr=0.004)"
   ]
  },
  {
   "cell_type": "code",
   "execution_count": 64,
   "metadata": {},
   "outputs": [],
   "source": [
    "def memory_footprint(module):\n",
    "    return sum(v.numel() for v in module.parameters())"
   ]
  },
  {
   "cell_type": "code",
   "execution_count": 65,
   "metadata": {},
   "outputs": [
    {
     "data": {
      "text/plain": [
       "1052"
      ]
     },
     "execution_count": 65,
     "metadata": {},
     "output_type": "execute_result"
    }
   ],
   "source": [
    "memory_footprint(policy)"
   ]
  },
  {
   "cell_type": "code",
   "execution_count": 66,
   "metadata": {},
   "outputs": [
    {
     "data": {
      "text/plain": [
       "Sequential(\n",
       "  (0): Linear(in_features=4, out_features=150, bias=True)\n",
       "  (1): GELU()\n",
       "  (2): Linear(in_features=150, out_features=2, bias=True)\n",
       "  (3): Softmax(dim=1)\n",
       ")"
      ]
     },
     "execution_count": 66,
     "metadata": {},
     "output_type": "execute_result"
    }
   ],
   "source": [
    "policy"
   ]
  },
  {
   "cell_type": "code",
   "execution_count": 67,
   "metadata": {},
   "outputs": [],
   "source": [
    "env_v0 = gym.make('CartPole-v0')\n",
    "env_v1 = gym.make('CartPole-v1')\n",
    "env_raw = CartPoleEnv()\n",
    "env = env_raw"
   ]
  },
  {
   "cell_type": "code",
   "execution_count": 68,
   "metadata": {},
   "outputs": [],
   "source": [
    "scores = []"
   ]
  },
  {
   "cell_type": "code",
   "execution_count": 69,
   "metadata": {},
   "outputs": [],
   "source": [
    "from IPython.display import clear_output\n",
    "\n",
    "def ask_bool(message):\n",
    "    ACK = ('y', 'yes', '1')\n",
    "    DENY = ('n', 'no', '0')\n",
    "    prompt = message + ': '\n",
    "    while True:\n",
    "        resp = input(prompt).lower()\n",
    "        if resp in ACK:\n",
    "            return True\n",
    "        if resp in DENY:\n",
    "            return False\n",
    "        print('Please answer with one one of yes or no')"
   ]
  },
  {
   "cell_type": "code",
   "execution_count": 70,
   "metadata": {},
   "outputs": [
    {
     "name": "stdout",
     "output_type": "stream",
     "text": [
      "elapsed time = 0m 18s\n"
     ]
    },
    {
     "data": {
      "image/png": "[encoded data removed]",
      "text/plain": [
       "<Figure size 720x576 with 1 Axes>"
      ]
     },
     "metadata": {
      "needs_background": "light"
     },
     "output_type": "display_data"
    }
   ],
   "source": [
    "start_time = time.time()\n",
    "MAX_ITERATION = 500\n",
    "gamma = 0.99\n",
    "acts = np.array([0, 1])\n",
    "\n",
    "MAX_EPISODE = 30_000\n",
    "MAX_ELIGIBILITY_VECTOR_SIZE = 10_000\n",
    "\n",
    "for _ in range(MAX_ITERATION):\n",
    "    # Play CartPole\n",
    "    prob_batch = []\n",
    "    state = env.reset()\n",
    "    steps, done, truncated = 0, False, False\n",
    "    \n",
    "    try:\n",
    "        while not done:\n",
    "            act_prob = policy(torch.as_tensor(state).unsqueeze(0)).squeeze(0)\n",
    "            act = np.random.choice(acts, p=act_prob.data.numpy())\n",
    "            state, reward, done, info  = env.step(act)\n",
    "            prob_batch.append(act_prob[act])\n",
    "            steps += 1\n",
    "            truncated = info.get('TimeLimit.truncated', False)\n",
    "            if MAX_EPISODE <= steps:\n",
    "                interrupted = ask_bool('Episode length exceeds {}. Do you want to stop?'.format(steps))\n",
    "                if interrupted:\n",
    "                    raise KeyboardInterrupt()\n",
    "                    \n",
    "        if len(prob_batch) >= MAX_ELIGIBILITY_VECTOR_SIZE:\n",
    "            interrupted = ask_bool('Length of eligibility vector is {}. Do you want to reinforce?'.format(len(prob_batch)))\n",
    "            if interrupted:\n",
    "                raise KeyboardInterrupt()\n",
    "    except KeyboardInterrupt:\n",
    "        del prob_batch\n",
    "        print('Interruped')\n",
    "        break\n",
    "    \n",
    "    scores.append(steps)\n",
    "    \n",
    "    # Backpropagation\n",
    "    prob_batch = torch.stack(prob_batch, dim=0)\n",
    "    reward_batch = torch.arange(steps, 0, step=-1)\n",
    "    disc_returns = torch.pow(gamma, torch.arange(steps, dtype=torch.float64)) * reward_batch\n",
    "    disc_returns /= torch.max(disc_returns)\n",
    "    loss = torch.sum(-1 * disc_returns * torch.log(prob_batch))\n",
    "    optimizer.zero_grad()\n",
    "    loss.backward()\n",
    "    optimizer.step()\n",
    "    \n",
    "    del prob_batch\n",
    "\n",
    "elapsed_time = time.time() - start_time\n",
    "print('elapsed time = {}m {}s'.format(int(elapsed_time // 60), int(round(elapsed_time % 60, 0))))\n",
    "\n",
    "plt.figure(figsize=(10, 8))\n",
    "plt.scatter(np.arange(len(scores)), scores)\n",
    "plt.show()"
   ]
  },
  {
   "cell_type": "code",
   "execution_count": 60,
   "metadata": {},
   "outputs": [],
   "source": [
    "cartpole.sim(policy, env, limit=None, skip=1000, animation=True, terminal=True)"
   ]
  },
  {
   "cell_type": "code",
   "execution_count": 61,
   "metadata": {},
   "outputs": [],
   "source": [
    "checkpoint = {\n",
    "    'policy': policy.state_dict(),\n",
    "    'optimizer': optimizer.state_dict(),\n",
    "}\n",
    "torch.save(checkpoint, '##NAME##')"
   ]
  },
  {
   "cell_type": "code",
   "execution_count": null,
   "metadata": {},
   "outputs": [],
   "source": []
  }
 ],
 "metadata": {
  "kernelspec": {
   "display_name": "Python 3",
   "language": "python",
   "name": "python3"
  },
  "language_info": {
   "codemirror_mode": {
    "name": "ipython",
    "version": 3
   },
   "file_extension": ".py",
   "mimetype": "text/x-python",
   "name": "python",
   "nbconvert_exporter": "python",
   "pygments_lexer": "ipython3",
   "version": "3.8.5"
  }
 },
 "nbformat": 4,
 "nbformat_minor": 4
}
